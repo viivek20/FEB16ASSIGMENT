{
 "cells": [
  {
   "cell_type": "markdown",
   "id": "1ed8864c-b284-48cb-a287-1196c75ee593",
   "metadata": {},
   "source": [
    "Question:1 What is a database? Differentiate between SQL and NoSQL databases.\n",
    "ANSWER :- A database is an organized collection of structured information, or data, typically stored electronically in a computer system. A database is usually controlled by a database management system (DBMS).\n",
    "\n",
    "Key Differences between SQL and NoSQL\n",
    "SQL pronounced as “S-Q-L” or as “See-Quel” is primarily called RDBMS or Relational Databases, whereas NoSQL is a Non-relational or Distributed Database.\n",
    "Comparing SQL vs NoSQL databases, SQL databases are table-based databases, whereas NoSQL databases can be document-based, key-value pairs, and graph databases.\n",
    "SQL databases are vertically scalable, while NoSQL databases are horizontally scalable.\n",
    "SQL databases have a predefined schema, whereas NoSQL databases use a dynamic schema for unstructured data.\n",
    "Comparing NoSQL vs SQL performance, SQL requires specialized DB hardware for better performance while NoSQL uses commodity hardware.\n"
   ]
  },
  {
   "cell_type": "code",
   "execution_count": null,
   "id": "1a1d18fa-de58-4d91-b00a-78361f6ce86b",
   "metadata": {},
   "outputs": [],
   "source": [
    "Q2. What is DDL? Explain why CREATE, DROP, ALTER, and TRUNCATE are used with an example.\n",
    "ANSWER:- Data Definition Language (DDL) is a subset of SQL. It is a language for describing data and its relationships in a database. You can generate DDL in a script for database objects to: Keep a snapshot of the database structure.\n",
    "CREATE TABLE Persons (\n",
    "    PersonID int,\n",
    "    LastName varchar(255),\n",
    "    FirstName varchar(255),\n",
    "    Address varchar(255),\n",
    "    City varchar(255)\n",
    ");\n",
    "ALTER TABLE Customers\n",
    "ADD Email varchar(255);\n",
    "\n",
    "ALTER TABLE Customers\n",
    "DROP COLUMN Email;\n",
    "\n",
    "TRUNCATE TABLE Categories;"
   ]
  },
  {
   "cell_type": "code",
   "execution_count": null,
   "id": "482f3e48-d485-4e8a-b2b8-0b9dfa72fe7a",
   "metadata": {},
   "outputs": [],
   "source": [
    "\n",
    "What is DML? Explain INSERT, UPDATE, and DELETE with an example.\n",
    "ANS:- A DML (data manipulation language) refers to a computer programming language that allows you to add (insert), delete (delete), and alter (update) data in a database. A DML is typically a sublanguage of a larger database language like SQL, with the DML containing some of the language's operators\n",
    "\n",
    "  SELECT SingerId\n",
    "  FROM Singers\n",
    "  WHERE FirstName = \"Marc\" AND LastName = \"Richards\"\n",
    "  \n",
    "  -- Recommended: Including a seekable filter in the where clause\n",
    "  \n",
    "  UPDATE Singers SET FirstName = \"Marcel\"\n",
    "  WHERE SingerId = 1;\n",
    "\n",
    "INSERT Singers (SingerId, FirstName, LastName)\n",
    "VALUES (1, 'Marc', 'Richards')\n",
    "\n",
    "DELETE FROM table_name WHERE condition;"
   ]
  },
  {
   "cell_type": "code",
   "execution_count": null,
   "id": "7ff02366-c213-432f-97a6-0d6133005dcc",
   "metadata": {},
   "outputs": [],
   "source": [
    "What is DQL? Explain SELECT with an example.\n",
    "ANSWER:- The full form of DQL is Data Query Language. DQL is a part of the grouping involved in SQL (Structures Query Language) sub-languages. The SQL sub languages have four major categories, DQL, DDL, DCL, and DML. TCL is also sometimes argued for being a part of the sub-language set.\n",
    "SELECT column_name1, column_name2, …\n",
    "FROM table_name\n",
    "WHERE condition_ expression;"
   ]
  },
  {
   "cell_type": "code",
   "execution_count": null,
   "id": "80203912-7633-4064-aed7-d7219cca8374",
   "metadata": {},
   "outputs": [],
   "source": [
    "Q5. Explain Primary Key and Foreign Key.\n",
    "Answer: What is the database explain primary key and foreign key with example?\n",
    "Difference between Primary Key and Foreign Key\n",
    "Primary Key\tForeign Key\n",
    "A primary key constrain is a column or group of columns that uniquely identifies every row in the table of the relational database management system.\tForeign key is a column that creates a relationship between two tables."
   ]
  },
  {
   "cell_type": "code",
   "execution_count": null,
   "id": "0019776d-1bee-4a34-be78-ebb1798c9acc",
   "metadata": {},
   "outputs": [],
   "source": [
    "Question:6 Write a python code to connect MySQL to python. Explain the cursor() and execute() method.\n",
    "answer:- import mysql.connector\n",
    "\n",
    "mydb = mysql.connector.connect(\n",
    "  host=\"localhost\",\n",
    "  user=\"yourusername\",\n",
    "  password=\"yourpassword\",\n",
    "  database=\"mydatabase\"\n",
    ")\n",
    "\n",
    "mycursor = mydb.cursor()\n",
    "\n",
    "mycursor.execute(\"SELECT * FROM customers\")\n",
    "\n",
    "myresult = mycursor.fetchall()\n",
    "\n",
    "for x in myresult:\n",
    "  print(x)\n"
   ]
  },
  {
   "cell_type": "code",
   "execution_count": null,
   "id": "437f577a-2caf-412e-8b54-8123178c30f9",
   "metadata": {},
   "outputs": [],
   "source": [
    "question 7 :- Give the order of execution of SQL clauses in an SQL query.\n",
    "\n",
    "answer:- SELECT LAST_NAME, FIRST_NAME\n",
    "  FROM EMPLOYEE\n",
    " WHERE DEPARTMENT = 'IT'"
   ]
  }
 ],
 "metadata": {
  "kernelspec": {
   "display_name": "Python 3 (ipykernel)",
   "language": "python",
   "name": "python3"
  },
  "language_info": {
   "codemirror_mode": {
    "name": "ipython",
    "version": 3
   },
   "file_extension": ".py",
   "mimetype": "text/x-python",
   "name": "python",
   "nbconvert_exporter": "python",
   "pygments_lexer": "ipython3",
   "version": "3.10.8"
  }
 },
 "nbformat": 4,
 "nbformat_minor": 5
}
